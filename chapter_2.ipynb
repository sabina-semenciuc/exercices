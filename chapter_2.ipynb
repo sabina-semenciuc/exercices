{
  "nbformat": 4,
  "nbformat_minor": 0,
  "metadata": {
    "colab": {
      "provenance": []
    },
    "kernelspec": {
      "name": "python3",
      "display_name": "Python 3"
    },
    "language_info": {
      "name": "python"
    }
  },
  "cells": [
    {
      "cell_type": "markdown",
      "source": [
        "### 1. Create prime_list that has numbers between 2~10 as its elements. Then, use list indexing to the first element of the list and print as shown below."
      ],
      "metadata": {
        "id": "dKQt4Y7CTOmH"
      }
    },
    {
      "cell_type": "code",
      "execution_count": 3,
      "metadata": {
        "colab": {
          "base_uri": "https://localhost:8080/"
        },
        "id": "M8CpqonuTMtt",
        "outputId": "8699ba96-77ab-4efe-949a-a47b53c8cfc0"
      },
      "outputs": [
        {
          "output_type": "stream",
          "name": "stdout",
          "text": [
            "The first element of the ´a´ list is 2.\n"
          ]
        }
      ],
      "source": [
        "prime_list = list(range(2,11))\n",
        "print(\"The first element of the ´prime_list´ list is {}.\".format(prime_list[0]))"
      ]
    },
    {
      "cell_type": "markdown",
      "source": [
        "### 2. Create prime_list that has prime numbers between 1~10 as its elements. Then, use the append method to add 11. Print the results before and after addition as shown below."
      ],
      "metadata": {
        "id": "Z6AuEyFtUcRP"
      }
    },
    {
      "cell_type": "code",
      "source": [
        "prime_list_1 = list(range(1,11))\n",
        "prime_list_1.append(11)\n",
        "prime_list_1"
      ],
      "metadata": {
        "colab": {
          "base_uri": "https://localhost:8080/"
        },
        "id": "th7SV3S3UPmL",
        "outputId": "a69b60b9-7a87-48be-ba54-841b24d1c534"
      },
      "execution_count": 4,
      "outputs": [
        {
          "output_type": "execute_result",
          "data": {
            "text/plain": [
              "[1, 2, 3, 4, 5, 6, 7, 8, 9, 10, 11]"
            ]
          },
          "metadata": {},
          "execution_count": 4
        }
      ]
    },
    {
      "cell_type": "markdown",
      "source": [
        "### 3. For the list1 and list2, use the nested for loop to multiply each element of list1 and list2 and then print the result with the element multiplication result. "
      ],
      "metadata": {
        "id": "i588KiEcU27C"
      }
    },
    {
      "cell_type": "code",
      "source": [
        "list1 = [3,5,7]\n",
        "list2 = [2,3,4,5,6]\n",
        "for x in list1:\n",
        "  for y in list2:\n",
        "    print(\"{} x {} = {}\".format(x, y, x*y))"
      ],
      "metadata": {
        "colab": {
          "base_uri": "https://localhost:8080/"
        },
        "id": "g3K6wejnUzfH",
        "outputId": "324b7790-9ce0-4fbd-83d6-fc0e14a7f0cc"
      },
      "execution_count": 11,
      "outputs": [
        {
          "output_type": "stream",
          "name": "stdout",
          "text": [
            "3 x 2 = 6\n",
            "3 x 3 = 9\n",
            "3 x 4 = 12\n",
            "3 x 5 = 15\n",
            "3 x 6 = 18\n",
            "5 x 2 = 10\n",
            "5 x 3 = 15\n",
            "5 x 4 = 20\n",
            "5 x 5 = 25\n",
            "5 x 6 = 30\n",
            "7 x 2 = 14\n",
            "7 x 3 = 21\n",
            "7 x 4 = 28\n",
            "7 x 5 = 35\n",
            "7 x 6 = 42\n"
          ]
        }
      ]
    },
    {
      "cell_type": "markdown",
      "source": [
        "### 3. There is a list with the string s_list = ['abc', 'bcd', 'bcdefg', 'abba', 'cddc', 'opq’]. Implement the following function to this list. Do not use the min function or sort method to print the shortest string from the strings of s_list. (If there are multiple shortest strings, print the string that shows the first as following.)\n",
        "output ex: The shortest string : abc\n"
      ],
      "metadata": {
        "id": "CbITlc59WBL2"
      }
    },
    {
      "cell_type": "code",
      "source": [
        "def find_shortest_string(s_list):\n",
        "    if not s_list:\n",
        "        return None  # Return None if the list is empty\n",
        "\n",
        "    shortest = s_list[0]  # Assume the first string is the shortest\n",
        "\n",
        "    for string in s_list:\n",
        "        if len(string) < len(shortest):  # If the current string is shorter than the current shortest\n",
        "            shortest = string\n",
        "\n",
        "    return shortest\n",
        "\n",
        "s_list = ['abc', 'bcd', 'bcdefg', 'abba', 'cddc', 'op']\n",
        "shortest_string = find_shortest_string(s_list)\n",
        "\n",
        "if shortest_string:\n",
        "    print(\"The shortest string:\", shortest_string)\n",
        "else:\n",
        "    print(\"The list is empty.\")\n"
      ],
      "metadata": {
        "colab": {
          "base_uri": "https://localhost:8080/"
        },
        "id": "MvebB9meho6m",
        "outputId": "7e655f61-bbef-4084-bedf-228cce7a0d0a"
      },
      "execution_count": 17,
      "outputs": [
        {
          "output_type": "stream",
          "name": "stdout",
          "text": [
            "The shortest string: op\n"
          ]
        }
      ]
    },
    {
      "cell_type": "markdown",
      "source": [
        "### 4. From the pair programming problem earlier, the length of 'abc', 'bcd', 'opq’ are the same as 3. Likewise, if the string lengths are the same, write a program that prints all of the three shortest strings as follows. Use the sort(key=len) function to sort the strings by length and then write a code."
      ],
      "metadata": {
        "id": "2ooZPlJjij9R"
      }
    },
    {
      "cell_type": "code",
      "source": [
        "strings_list = ['abc', 'bcd', 'bcdefg', 'aa', 'cc', 'opq']\n",
        "shortest_len = len(strings_list[0])\n",
        "shorts = []\n",
        "for i in strings_list:\n",
        "  if len(i) < shortest_len:\n",
        "    shortest_len = len(i)\n",
        "for s in strings_list:\n",
        "  if len(s) == shortest_len:\n",
        "    shorts.append(s)\n",
        "print(shorts)"
      ],
      "metadata": {
        "colab": {
          "base_uri": "https://localhost:8080/"
        },
        "id": "KmX0M22QiW2g",
        "outputId": "c5cf862a-fa24-481f-8b3e-7d5ab1cd8957"
      },
      "execution_count": 19,
      "outputs": [
        {
          "output_type": "stream",
          "name": "stdout",
          "text": [
            "['aa', 'cc']\n"
          ]
        }
      ]
    },
    {
      "cell_type": "markdown",
      "source": [
        "### 5. Create the capital_dic dictionary with the following string key-value items. Then, use the capital_dic to write results regarding Korea in the following dictionary items"
      ],
      "metadata": {
        "id": "pnjKbeO5jL5K"
      }
    },
    {
      "cell_type": "code",
      "source": [
        "capital_dic = {'Korea': 'Seoul','China': 'Beijing','USA': 'Washington DC'}\n",
        "\n",
        "#output the capital of Korea\n",
        "print(capital_dic['Korea'])"
      ],
      "metadata": {
        "colab": {
          "base_uri": "https://localhost:8080/"
        },
        "id": "gz3Da8Sdira5",
        "outputId": "47c3a69b-a98c-4412-fdb9-cda6894d140f"
      },
      "execution_count": 20,
      "outputs": [
        {
          "output_type": "stream",
          "name": "stdout",
          "text": [
            "Seoul\n"
          ]
        }
      ]
    },
    {
      "cell_type": "markdown",
      "source": [
        "### 6. Create the fruits_dic dictionary that has elements of the following key-value items. Then, use this dictionary to print the price of each fruit as shown below.\n"
      ],
      "metadata": {
        "id": "5BoVsi5IjQdc"
      }
    },
    {
      "cell_type": "code",
      "source": [
        "fruits_dic = {'apple': 5000,'banana': 4000,'grape': 5300, 'melon': 6500}\n",
        "\n",
        "for key, value in fruits_dic.items():\n",
        "  print(('The price of a {} is {} KRW.').format(key, value))"
      ],
      "metadata": {
        "colab": {
          "base_uri": "https://localhost:8080/"
        },
        "id": "vL2-brfXjP6Z",
        "outputId": "bf0a12b2-1ddb-4ae3-d775-9629c0a4b03f"
      },
      "execution_count": 24,
      "outputs": [
        {
          "output_type": "stream",
          "name": "stdout",
          "text": [
            "The price of a apple is 5000 KRW.\n",
            "The price of a banana is 4000 KRW.\n",
            "The price of a grape is 5300 KRW.\n",
            "The price of a melon is 6500 KRW.\n"
          ]
        }
      ]
    },
    {
      "cell_type": "markdown",
      "source": [
        "### 7. Create the fruits_dic dictionary consists of key-value pairs including ('apple', 6000), ('melon', 3000), ('banana', 5000), ('orange', 4000). Then, print all of the key in the fruits_dic as list type and examine if the ‘apple’ and ‘mango’ keys are found in the fruits_dic, and print as follows.\n"
      ],
      "metadata": {
        "id": "UpLNmJOGjYgV"
      }
    },
    {
      "cell_type": "code",
      "source": [
        "fruits_dic = {'apple': 6000,'banana': 5000,'grape': 4000, 'melon': 3000}\n",
        "a = list(fruits_dic.keys())"
      ],
      "metadata": {
        "id": "_esAdvl6jXp1"
      },
      "execution_count": 26,
      "outputs": []
    },
    {
      "cell_type": "code",
      "source": [
        "'apple' in a"
      ],
      "metadata": {
        "colab": {
          "base_uri": "https://localhost:8080/"
        },
        "id": "EtjUFIplkeAx",
        "outputId": "a7ac457c-284f-4c2c-90eb-5dff91000260"
      },
      "execution_count": 27,
      "outputs": [
        {
          "output_type": "execute_result",
          "data": {
            "text/plain": [
              "True"
            ]
          },
          "metadata": {},
          "execution_count": 27
        }
      ]
    },
    {
      "cell_type": "markdown",
      "source": [
        "### 8. The following tuple records daily sales of a store for 10 days. Write a code to print how many days had reduced sales compared to previous day. (Hint: compare the values by iterating the elements with the iteration statement.)\n"
      ],
      "metadata": {
        "id": "p2Bu6qQako6Y"
      }
    },
    {
      "cell_type": "code",
      "source": [
        "sales = (100, 121, 120, 130, 140, 120, 122, 123, 190, 125, 455)\n",
        "sales_reduced = 0\n",
        "for i in range(1, len(sales)):\n",
        "  sales_main_day = sales[i]\n",
        "  sales_prev_day = sales[i-1]\n",
        "  if sales_main_day - sales_prev_day < 0:\n",
        "    sales_reduced += 1\n",
        "print(('In the past 10 days, {} days had reduced sales compared to the previous day.').format(sales_reduced))"
      ],
      "metadata": {
        "colab": {
          "base_uri": "https://localhost:8080/"
        },
        "id": "erByHdY5kn-o",
        "outputId": "bc566c51-8efd-459b-a154-509c76d2bb3b"
      },
      "execution_count": 30,
      "outputs": [
        {
          "output_type": "stream",
          "name": "stdout",
          "text": [
            "In the past 10 days, 3 days had reduced sales compared to the previous day.\n"
          ]
        }
      ]
    },
    {
      "cell_type": "markdown",
      "source": [
        "### 9. Return the element with the maximum number of occurrences. When there are more than two frequent elements, print the highest number.\n",
        "Given tuples: (1, 2, 5, 4, 3, 2, 1, 4, 7, 8, 9, 9, 3, 7, 3, 9)\n",
        "The most frequent element: 9"
      ],
      "metadata": {
        "id": "k8KdHl2YlX3V"
      }
    },
    {
      "cell_type": "code",
      "source": [
        "tuples = (1, 2, 5, 4, 3, 2, 1, 4, 7, 8, 9, 9, 3, 7, 3, 9) \n",
        "most_frequent_element = tuples[0]\n",
        "for x in tuples:\n",
        "  y = tuples.count(x)\n",
        "  if tuples.count(x) > tuples.count(most_frequent_element):\n",
        "    most_frequent_element = x\n",
        "print(most_frequent_element)"
      ],
      "metadata": {
        "colab": {
          "base_uri": "https://localhost:8080/"
        },
        "id": "v38hqyDmlHAN",
        "outputId": "32813e81-3cff-4b12-e7d7-191b7f5ae8e0"
      },
      "execution_count": 31,
      "outputs": [
        {
          "output_type": "stream",
          "name": "stdout",
          "text": [
            "3\n"
          ]
        }
      ]
    },
    {
      "cell_type": "code",
      "source": [
        "tuples = (1, 2, 5, 4, 3, 2, 1, 4, 7, 8, 9, 9, 3, 7, 3, 9)\n",
        "\n",
        "count = {}  # Dictionary to store the count of each element\n",
        "\n",
        "# Count the occurrences of each element in the tuple\n",
        "for element in tuples:\n",
        "    if element in count:\n",
        "        count[element] += 1\n",
        "    else:\n",
        "        count[element] = 1\n",
        "\n",
        "most_frequent_element = None\n",
        "max_count = 0\n",
        "\n",
        "# Find the most frequent element and the highest count\n",
        "for element, frequency in count.items():\n",
        "    if frequency > max_count or (frequency == max_count and element > most_frequent_element):\n",
        "        most_frequent_element = element\n",
        "        max_count = frequency\n",
        "\n",
        "print(most_frequent_element)\n"
      ],
      "metadata": {
        "colab": {
          "base_uri": "https://localhost:8080/"
        },
        "id": "feus4y6loiJu",
        "outputId": "ebff434b-2815-470b-ac1b-a4a35338dc9f"
      },
      "execution_count": 32,
      "outputs": [
        {
          "output_type": "stream",
          "name": "stdout",
          "text": [
            "9\n"
          ]
        }
      ]
    },
    {
      "cell_type": "markdown",
      "source": [
        "### 10. In the output example below, there are the tuples containing elements, as well as empty tuples, empty strings and empty lists that have no elements. Write a code to remove these empty tuples, empty strings and empty lists from the given list below. (However, do not remove (,) tuple because it is considered as having one empty tuple.) \n",
        "Given tuples: [(), (1,), [], 'abc', (), (), (1,), ('a',), ('a', 'b'), ((),), '']\n",
        "The most frequent element: [(1,), 'abc', (1,), ('a',), ('a', 'b'), ((),)"
      ],
      "metadata": {
        "id": "nE29BxJrpENQ"
      }
    },
    {
      "cell_type": "code",
      "source": [
        "given_tuples = [(), (1,), [], 'abc', (), (), (1,), ('a',), ('a', 'b'), ((),), '']\n",
        "\n",
        "filtered_tuples = [element for element in given_tuples if (element != () and element != '' and element != [])]\n",
        "\n",
        "print(\"Filtered tuples:\", filtered_tuples)"
      ],
      "metadata": {
        "colab": {
          "base_uri": "https://localhost:8080/"
        },
        "id": "eL1Oh15vo7_M",
        "outputId": "b7cfa48f-af2b-49f3-be5d-9b799d794941"
      },
      "execution_count": 39,
      "outputs": [
        {
          "output_type": "stream",
          "name": "stdout",
          "text": [
            "Filtered tuples: [(1,), 'abc', (1,), ('a',), ('a', 'b'), ((),)]\n"
          ]
        }
      ]
    },
    {
      "cell_type": "markdown",
      "source": [
        "### 11. Put the two-dimensional arrays [[10, 20], [30, 40], [50, 60]] into the variable list_array and output 30. Do the correct indexing."
      ],
      "metadata": {
        "id": "tKusKF0hqvQd"
      }
    },
    {
      "cell_type": "code",
      "source": [
        "a = [[10, 20], [30, 40], [50, 60]]\n",
        "a[1][0]"
      ],
      "metadata": {
        "colab": {
          "base_uri": "https://localhost:8080/"
        },
        "id": "1l4LNHocqBK6",
        "outputId": "3408bc33-5185-476f-d54b-e79560173d16"
      },
      "execution_count": 42,
      "outputs": [
        {
          "output_type": "execute_result",
          "data": {
            "text/plain": [
              "30"
            ]
          },
          "metadata": {},
          "execution_count": 42
        }
      ]
    },
    {
      "cell_type": "markdown",
      "source": [
        "### 12. Create a 2D list of 4 x 4 size with values ranging from 1 to 16 and print all the elements using the for loop."
      ],
      "metadata": {
        "id": "u5ZrOX64rEnl"
      }
    },
    {
      "cell_type": "code",
      "source": [
        "matrix = []\n",
        "for i in range(1,16,4):\n",
        "  line = []\n",
        "  for j in range(4):\n",
        "    line.append(i+j)\n",
        "  matrix.append(line)\n",
        "print(matrix, end = ' ')"
      ],
      "metadata": {
        "colab": {
          "base_uri": "https://localhost:8080/"
        },
        "id": "V4AOUMlmq--W",
        "outputId": "3d902109-efd4-44d7-bc46-302117e7784b"
      },
      "execution_count": 45,
      "outputs": [
        {
          "output_type": "stream",
          "name": "stdout",
          "text": [
            "[[1, 2, 3, 4], [5, 6, 7, 8], [9, 10, 11, 12], [13, 14, 15, 16]] "
          ]
        }
      ]
    },
    {
      "cell_type": "code",
      "source": [
        "for m in matrix:\n",
        "  for n in m:\n",
        "    print(n, end = ' ')\n",
        "  print()"
      ],
      "metadata": {
        "colab": {
          "base_uri": "https://localhost:8080/"
        },
        "id": "LWCoPbdOrTV2",
        "outputId": "f38f3b85-6d6a-482c-f0d6-59c43ae91cc3"
      },
      "execution_count": 47,
      "outputs": [
        {
          "output_type": "stream",
          "name": "stdout",
          "text": [
            "1 2 3 4 \n",
            "5 6 7 8 \n",
            "9 10 11 12 \n",
            "13 14 15 16 \n"
          ]
        }
      ]
    },
    {
      "cell_type": "markdown",
      "source": [
        "### 13. Write a program that generates a multidimensional array of n×n size, based on the number of inputs, by receiving two or more n as inputs from users. In this case, the content of the arrangement should be displayed so that the values of 0 and 1 intersect in a checkered pattern."
      ],
      "metadata": {
        "id": "PNSQ2mMCr6h8"
      }
    },
    {
      "cell_type": "code",
      "source": [
        "# Get the number of inputs\n",
        "num_inputs = int(input(\"Enter the number of inputs: \"))\n",
        "\n",
        "arrays = []\n",
        "for _ in range(num_inputs):\n",
        "    n = int(input(\"Enter the value of n: \"))\n",
        "\n",
        "    array = [[0] * n for _ in range(n)]\n",
        "\n",
        "    for i in range(n):\n",
        "        for j in range(n):\n",
        "            if (i + j) % 2 == 0:\n",
        "                array[i][j] = 1\n",
        "\n",
        "    arrays.append(array)\n",
        "\n",
        "# Display the generated arrays\n",
        "for i, array in enumerate(arrays):\n",
        "    print(f\"Array {i+1}:\")\n",
        "    for row in array:\n",
        "        print(row)"
      ],
      "metadata": {
        "id": "aQttvpljszH5"
      },
      "execution_count": null,
      "outputs": []
    },
    {
      "cell_type": "markdown",
      "source": [
        "### 14. Let's create a dictionary named person_dic with the following contact information on your phone. Print this information using the for loop to show the output results below."
      ],
      "metadata": {
        "id": "oNf1v1biuIQC"
      }
    },
    {
      "cell_type": "code",
      "source": [
        "person_dic = {\"Last name\" : \"Doe\", \"First name\" : \"David\", \"Company\" : \"Samsung\"}\n",
        "for key, value in person_dic.items():\n",
        "  print(\"{} : {}\".format(key, value))"
      ],
      "metadata": {
        "colab": {
          "base_uri": "https://localhost:8080/"
        },
        "id": "8lQQYK8ut9TO",
        "outputId": "35bdf0b2-b01c-4503-ac1a-caef4e261693"
      },
      "execution_count": 51,
      "outputs": [
        {
          "output_type": "stream",
          "name": "stdout",
          "text": [
            "Last name : Doe\n",
            "First name : David\n",
            "Company : Samsung\n"
          ]
        }
      ]
    },
    {
      "cell_type": "markdown",
      "source": [
        "### 15. Let's write a program that performs inventory management at a convenience store. To this end, inventory of items sold at convenience stores is stored in the items dictionary as shown in the example below. Write a program that receives the name of the item from users and returns the inventory of the item. Suppose that it is a very small convenience store and the items treated are as following."
      ],
      "metadata": {
        "id": "0vJR5YbKvT57"
      }
    },
    {
      "cell_type": "code",
      "source": [
        "items = {\"Coffee\": 7, \"Pen\":3, \"Paper cup\": 2, \"Milk\": 1, \"Coke\": 4, \"Book\":5}\n",
        "while True:\n",
        "  try:\n",
        "    k = input(\"Enter an item:\")\n",
        "    if k in items.keys():\n",
        "      break\n",
        "    else:\n",
        "      raise ValueError\n",
        "  except ValueError:\n",
        "    print(\"Try again!\")\n",
        "print(\"The stock of {} is {}. Thank you!\".format(k, items[k]))"
      ],
      "metadata": {
        "colab": {
          "base_uri": "https://localhost:8080/"
        },
        "id": "yjsgG9VAvKjG",
        "outputId": "f9614613-0e98-46c3-eb89-4a5cbd6d3c97"
      },
      "execution_count": 53,
      "outputs": [
        {
          "output_type": "stream",
          "name": "stdout",
          "text": [
            "Enter an item:Pen\n",
            "The stock of Pen is 3. Thank you!\n"
          ]
        }
      ]
    },
    {
      "cell_type": "markdown",
      "source": [
        "### 16. Let's upgrade the program to manage the inventory of convenience stores that we solved in paper coding. In other words, add code to increase or decrease inventory. Also, make simple menus such as inventory inquiry, warehousing, and shipment."
      ],
      "metadata": {
        "id": "qbcVm5rBwd8I"
      }
    },
    {
      "cell_type": "code",
      "source": [
        "items = {\"Coffee\": 7, \"Pen\":3, \"Paper cup\": 2, \"Milk\": 1, \"Coke\": 4, \"Book\":5}\n",
        "\n",
        "menu = int(input(\"Select menu 1)check stock 2)warehousing 3) release 4) exit: \"))\n",
        "\n",
        "if menu == 1:\n",
        "    print('You chose to check stock from menu. Please read next line:')\n",
        "    item = input(\"Enter item: \")\n",
        "    if item in items.keys():\n",
        "      print(\"Stock: {}.\".format(items[item]))\n",
        "\n",
        "if menu == 2:\n",
        "  print('You chose to warehouse an item stock from menu. Please read next line:')\n",
        "  item = input(\"Enter item: \")\n",
        "  if item in items.keys():\n",
        "    print('The current stock is: {}.'.format(items[item]))\n",
        "    quantity = int(input(\"Enter quantity: \"))\n",
        "    items[item] += quantity\n",
        "    print('The new stock is {}.'.format(items[item]))\n",
        "  elif item not in items.keys():\n",
        "    items[item] = 0\n",
        "    quantity = int(input(\"Enter quantity: \"))\n",
        "    items[item] += quantity\n",
        "\n",
        "if menu == 3:\n",
        "  print('You chose to release an item stock from menu. Please read next line:')\n",
        "  item = input(\"Enter item: \")\n",
        "  if item in items.keys():\n",
        "    print('The current stock is: {}.'.format(items[item]))\n",
        "    quantity = int(input(\"Enter quantity: \"))\n",
        "    if (items[item] - quantity) >= 0:\n",
        "      items[item] -= quantity\n",
        "      print('The new stock is: {}.'.format(items[item]))\n",
        "    else:\n",
        "      print('Not enough stock! Try again!')\n",
        "  else:\n",
        "    print('Unidentified item!')\n",
        "\n",
        "if menu == 4:\n",
        "  print('You chose to exit the menu. Thank you!')\n",
        "\n",
        "elif menu != [1, 2, 3, 4]:\n",
        "  print('Not in the menu!')"
      ],
      "metadata": {
        "colab": {
          "base_uri": "https://localhost:8080/"
        },
        "id": "2O1Lj6iSwEKg",
        "outputId": "3abc87e5-9918-45cc-e815-81189b9b6ace"
      },
      "execution_count": 89,
      "outputs": [
        {
          "output_type": "stream",
          "name": "stdout",
          "text": [
            "Select menu 1)check stock 2)warehousing 3) release 4) exit: 4\n",
            "You chose to exit the menu. Thank you!\n"
          ]
        }
      ]
    },
    {
      "cell_type": "markdown",
      "source": [
        "### 17. A tuple called study_tup, which has three pairs of elements: student ID number, name, and phone number, exists as shown below. Modify the student_tup below to create and print a dictionary of the pair {student ID number : [name, phone number]}.\n"
      ],
      "metadata": {
        "id": "3PGIcIq2-i77"
      }
    },
    {
      "cell_type": "code",
      "source": [
        "student_tup = (('211101', 'David Doe', '010-1234-4500'), ('211102', ' John Smith', '010-2230-6540'), ('211103', ' Jane Carter', '010-3232-7788'))\n",
        "dict = {}\n",
        "for id, name, phone in student_tup:\n",
        "  dict[id] = [name, phone]\n",
        "print(dict)\n"
      ],
      "metadata": {
        "colab": {
          "base_uri": "https://localhost:8080/"
        },
        "id": "1cd_MeBUzIkA",
        "outputId": "3fe06132-2264-4c05-f0cd-35e06ceafd9d"
      },
      "execution_count": 91,
      "outputs": [
        {
          "output_type": "stream",
          "name": "stdout",
          "text": [
            "{'211101': ['David Doe', '010-1234-4500'], '211102': [' John Smith', '010-2230-6540'], '211103': [' Jane Carter', '010-3232-7788']}\n"
          ]
        }
      ]
    },
    {
      "cell_type": "markdown",
      "source": [
        "### 18. Write a bachelor's information program using the student_tup above to receive the student's student ID number as input and print the student’s name and phone number.\n"
      ],
      "metadata": {
        "id": "jYrVNvB0AQMY"
      }
    },
    {
      "cell_type": "code",
      "source": [
        "student_tup = (('211101', 'David Doe', '010-1234-4500'), ('211102', 'John Smith', '010-2230-6540'), ('211103', 'Jane Carter', '010-3232-7788'))\n",
        "\n",
        "# Get the student ID number as input\n",
        "student_id = input(\"Enter the student ID number: \")\n",
        "\n",
        "found = False\n",
        "\n",
        "# Iterate through the student tuples\n",
        "for student in student_tup:\n",
        "    if student[0] == student_id:\n",
        "        found = True\n",
        "        print(\"Name:\", student[1])\n",
        "        print(\"Phone number:\", student[2])\n",
        "        break\n",
        "\n",
        "if not found:\n",
        "    print(\"Student ID not found.\")"
      ],
      "metadata": {
        "colab": {
          "base_uri": "https://localhost:8080/"
        },
        "id": "uERr7eb4AGvc",
        "outputId": "6f75d9ae-021c-49dc-ece9-0779ea719c0f"
      },
      "execution_count": 93,
      "outputs": [
        {
          "output_type": "stream",
          "name": "stdout",
          "text": [
            "Enter the student ID number: 211101\n",
            "Name: David Doe\n",
            "Phone number: 010-1234-4500\n"
          ]
        }
      ]
    },
    {
      "cell_type": "markdown",
      "source": [
        "### 19. The student_tuple list with tuples as elements is as shown below. Tuple, which is the element of this list consists of a (student ID number, name, phone number). Using this, make a dictionary for (student ID number: name) and print it out. When inquiring by student ID number, make sure that the student ID number, name, and phone number are printed as shown below."
      ],
      "metadata": {
        "id": "5fnjccJSBbaV"
      }
    },
    {
      "cell_type": "code",
      "source": [
        "student_tuple = [('211101', 'David Doe', '010-123-1111'), ('211102', 'John Smith', '010-123-2222'), ('211103', 'Jane Carter', '010-123-3333')]\n",
        "\n",
        "# Get the student ID number as input\n",
        "student_id = input(\"Enter the student ID number: \")\n",
        "\n",
        "found = False\n",
        "\n",
        "# Iterate through the student tuples\n",
        "for student in student_tup:\n",
        "    if student[0] == student_id:\n",
        "        found = True\n",
        "        print(\"{} student is {} and phone number is {}.\".format(student_id, student[1],  student[2]))\n",
        "        break\n",
        "\n",
        "if not found:\n",
        "    print(\"Student ID not found.\")"
      ],
      "metadata": {
        "colab": {
          "base_uri": "https://localhost:8080/"
        },
        "id": "inndCcxxBLZl",
        "outputId": "f8f4b942-308c-45a3-bd4c-9c82bb70f48c"
      },
      "execution_count": 94,
      "outputs": [
        {
          "output_type": "stream",
          "name": "stdout",
          "text": [
            "Enter the student ID number: 211102\n",
            "211102 student is John Smith and phone number is 010-2230-6540.:\n"
          ]
        }
      ]
    },
    {
      "cell_type": "markdown",
      "source": [
        "### 20. Use the set function to generate and print the set s1 from the next list lst."
      ],
      "metadata": {
        "id": "GPkr7GKCDgCB"
      }
    },
    {
      "cell_type": "code",
      "source": [
        "lst = ['apple', 'mango', 'banana']\n",
        "s1 = set(lst)\n",
        "s1"
      ],
      "metadata": {
        "colab": {
          "base_uri": "https://localhost:8080/"
        },
        "id": "Rdi6B3yBCLz1",
        "outputId": "bb64ea76-9458-43c3-f132-d2e86f2b0ce5"
      },
      "execution_count": 95,
      "outputs": [
        {
          "output_type": "execute_result",
          "data": {
            "text/plain": [
              "{'apple', 'banana', 'mango'}"
            ]
          },
          "metadata": {},
          "execution_count": 95
        }
      ]
    },
    {
      "cell_type": "markdown",
      "source": [
        "### 21. Write down the computational results for the following two sets. Find the results from 1) to 7)."
      ],
      "metadata": {
        "id": "L3LWIv4QDvf2"
      }
    },
    {
      "cell_type": "code",
      "source": [
        "s1 = {10, 20, 30, 40}\n",
        "s2 = {30, 40, 50, 60, 70}"
      ],
      "metadata": {
        "id": "7U6ei_dTDpTl"
      },
      "execution_count": 96,
      "outputs": []
    },
    {
      "cell_type": "code",
      "source": [
        "# s1 | s2 = {10, 20, 30, 40, 50, 60, 70}\n",
        "s1 | s2"
      ],
      "metadata": {
        "colab": {
          "base_uri": "https://localhost:8080/"
        },
        "id": "vJWgPSHNDzTV",
        "outputId": "65735671-6abb-425c-84d4-2fe28e8ac441"
      },
      "execution_count": 97,
      "outputs": [
        {
          "output_type": "execute_result",
          "data": {
            "text/plain": [
              "{10, 20, 30, 40, 50, 60, 70}"
            ]
          },
          "metadata": {},
          "execution_count": 97
        }
      ]
    },
    {
      "cell_type": "code",
      "source": [
        "# s1 & s2 = {30, 40}\n",
        "s1 & s2"
      ],
      "metadata": {
        "colab": {
          "base_uri": "https://localhost:8080/"
        },
        "id": "oHj_b0LBEAIc",
        "outputId": "99768d52-f740-42ee-8fb3-6bf42abe560d"
      },
      "execution_count": 98,
      "outputs": [
        {
          "output_type": "execute_result",
          "data": {
            "text/plain": [
              "{30, 40}"
            ]
          },
          "metadata": {},
          "execution_count": 98
        }
      ]
    },
    {
      "cell_type": "code",
      "source": [
        "#s1 – s2 = {10, 20}\n",
        "s1 - s2"
      ],
      "metadata": {
        "colab": {
          "base_uri": "https://localhost:8080/"
        },
        "id": "60vAC7T3EQyF",
        "outputId": "a35c420d-4508-49a5-dde5-04f8a6e90b6c"
      },
      "execution_count": 100,
      "outputs": [
        {
          "output_type": "execute_result",
          "data": {
            "text/plain": [
              "{10, 20}"
            ]
          },
          "metadata": {},
          "execution_count": 100
        }
      ]
    },
    {
      "cell_type": "code",
      "source": [
        "# s1 ^ s2 = {10, 20, 50, 60, 70}\n",
        "s1 ^ s2"
      ],
      "metadata": {
        "colab": {
          "base_uri": "https://localhost:8080/"
        },
        "id": "Q8ZalJN-ETTO",
        "outputId": "59bb5f34-e49a-44d2-e920-6b81fd80f765"
      },
      "execution_count": 101,
      "outputs": [
        {
          "output_type": "execute_result",
          "data": {
            "text/plain": [
              "{10, 20, 50, 60, 70}"
            ]
          },
          "metadata": {},
          "execution_count": 101
        }
      ]
    },
    {
      "cell_type": "code",
      "source": [
        "# s1.issubset(s2) = False\n",
        "s1.issubset(s2)"
      ],
      "metadata": {
        "colab": {
          "base_uri": "https://localhost:8080/"
        },
        "id": "Xk9BXOD_EUfh",
        "outputId": "8cbb2426-31ae-4950-cc08-557ba39579c7"
      },
      "execution_count": 102,
      "outputs": [
        {
          "output_type": "execute_result",
          "data": {
            "text/plain": [
              "False"
            ]
          },
          "metadata": {},
          "execution_count": 102
        }
      ]
    },
    {
      "cell_type": "code",
      "source": [
        "# s1.issuperset(s2) = False\n",
        "s1.issuperset(s2)"
      ],
      "metadata": {
        "colab": {
          "base_uri": "https://localhost:8080/"
        },
        "id": "wouRvFlUEVuU",
        "outputId": "6de54591-42bc-491d-a2a8-bb66b1259ae2"
      },
      "execution_count": 103,
      "outputs": [
        {
          "output_type": "execute_result",
          "data": {
            "text/plain": [
              "False"
            ]
          },
          "metadata": {},
          "execution_count": 103
        }
      ]
    },
    {
      "cell_type": "code",
      "source": [
        "# s1.isdisjoint(s2) = False\n",
        "s1.isdisjoint(s2)"
      ],
      "metadata": {
        "colab": {
          "base_uri": "https://localhost:8080/"
        },
        "id": "xbzyeOgyEWtf",
        "outputId": "725968ce-c9f3-44e4-f57e-06dd8bdb6aa4"
      },
      "execution_count": 104,
      "outputs": [
        {
          "output_type": "execute_result",
          "data": {
            "text/plain": [
              "False"
            ]
          },
          "metadata": {},
          "execution_count": 104
        }
      ]
    },
    {
      "cell_type": "markdown",
      "source": [
        "### 22. Takes user input for two integers and checks if the pair exists in a given list of tuples."
      ],
      "metadata": {
        "id": "sNv5uZ73E9rX"
      }
    },
    {
      "cell_type": "code",
      "source": [
        "mylist = [(1, 2), (4, 5), (4, 2), (3, 1), (9, 4)] #declaring my list of tuples\n",
        "\n",
        "while True:\n",
        "  try:\n",
        "    m, n = map(int, (input(\"\")).split(sep = \",\")) #getting the input from the user\n",
        "    break\n",
        "  except ValueError:\n",
        "    print(\"Please enter a valid integer: \")\n",
        "    \n",
        "a = (m,n) #asssigning the tuple to a variable for easier usage\n",
        "if a in mylist: #if the tuple is in the list\n",
        "  position = mylist.index(a) + 1 #check the position\n",
        "  print(\"There is {} at {}.\".format(a, position)) #output exression if condition is met\n",
        "\n",
        "elif a[::-1] in mylist: #if the reversed tuple is in the list\n",
        "  position = mylist.index(a[::-1]) + 1 #check the position\n",
        "  print(\"There is {} at {}.\".format(a[::-1], position)) #output to be printed in case the second condition is met\n",
        "\n",
        "else: #in any other case\n",
        "  print(\"There is no {} nor {}.\".format(a,a[::-1])) #output this message"
      ],
      "metadata": {
        "colab": {
          "base_uri": "https://localhost:8080/"
        },
        "id": "pLajEXSpE38X",
        "outputId": "8ceb7b42-6113-4b90-ea54-74501d5b33ae"
      },
      "execution_count": 105,
      "outputs": [
        {
          "output_type": "stream",
          "name": "stdout",
          "text": [
            "5,6\n",
            "There is no (5, 6) nor (6, 5).\n"
          ]
        }
      ]
    }
  ]
}