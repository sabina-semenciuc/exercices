{
  "nbformat": 4,
  "nbformat_minor": 0,
  "metadata": {
    "colab": {
      "provenance": []
    },
    "kernelspec": {
      "name": "python3",
      "display_name": "Python 3"
    },
    "language_info": {
      "name": "python"
    }
  },
  "cells": [
    {
      "cell_type": "markdown",
      "source": [
        "## Exercices"
      ],
      "metadata": {
        "id": "yYEBXLCl_uTS"
      }
    },
    {
      "cell_type": "markdown",
      "source": [
        "### 1. If there are two lists l1 and l2 with the following strings, use the combination of l1 and l2 to print as follows."
      ],
      "metadata": {
        "id": "U51WGbjl2Bn6"
      }
    },
    {
      "cell_type": "code",
      "execution_count": null,
      "metadata": {
        "colab": {
          "base_uri": "https://localhost:8080/"
        },
        "id": "4_rS353a11NW",
        "outputId": "7ac804ea-2a4c-4ff6-b4ea-fc93ebc215a7"
      },
      "outputs": [
        {
          "output_type": "stream",
          "name": "stdout",
          "text": [
            "I like pancake.\n",
            "I like kiwi juice.\n",
            "I like espresso.\n",
            "I love pancake.\n",
            "I love kiwi juice.\n",
            "I love espresso.\n"
          ]
        }
      ],
      "source": [
        "l1 = [\"I like\", \"I love\"]\n",
        "l2 = [\"pancake.\", \"kiwi juice.\", \"espresso.\"]\n",
        "# Nested loops to combine elements from l1 and l2\n",
        "for x in l1: #iterating over the elements in the first list\n",
        "  for y in l2: #itearting over the elements in the second list\n",
        "    print(x,y) #output the expression\n"
      ]
    },
    {
      "cell_type": "code",
      "source": [
        "#list comprehension\n",
        "l1 = [\"I like\", \"I love\"]\n",
        "l2 = [\"pancake.\", \"kiwi juice.\", \"espresso.\"]\n",
        "[print(x,y) for x in l1 for y in l2]"
      ],
      "metadata": {
        "colab": {
          "base_uri": "https://localhost:8080/"
        },
        "id": "eZDYFnnd8zqE",
        "outputId": "bbcc570b-4e33-4871-81d3-7eb24eaff699"
      },
      "execution_count": null,
      "outputs": [
        {
          "output_type": "stream",
          "name": "stdout",
          "text": [
            "I like pancake.\n",
            "I like kiwi juice.\n",
            "I like espresso.\n",
            "I love pancake.\n",
            "I love kiwi juice.\n",
            "I love espresso.\n"
          ]
        },
        {
          "output_type": "execute_result",
          "data": {
            "text/plain": [
              "[None, None, None, None, None, None]"
            ]
          },
          "metadata": {},
          "execution_count": 2
        }
      ]
    },
    {
      "cell_type": "markdown",
      "source": [
        "### 2. The person dictionary is defined as follows. Add a new item to this person dictionary with the key 'Father' and the value 'John Doe'. And then print the person dictionary."
      ],
      "metadata": {
        "id": "mVwVb9RB2ig1"
      }
    },
    {
      "cell_type": "code",
      "source": [
        "#declaring a dictionary\n",
        "person = {\"I like\" : \"David Doe\", \"Age\" : 26, \"Weight\" : 82, \"Job\" : \"Data Scientist\"}\n",
        "person[\"Father\"] = \"John Doe\" #adding a new element to the dictionary\n",
        "print(person) #checking the updated version of the dictionary "
      ],
      "metadata": {
        "colab": {
          "base_uri": "https://localhost:8080/"
        },
        "id": "m4Kx0A1N2Qea",
        "outputId": "fd81525f-d324-4f10-f270-6118a3bc6026"
      },
      "execution_count": null,
      "outputs": [
        {
          "output_type": "stream",
          "name": "stdout",
          "text": [
            "{'I like': 'David Doe', 'Age': 26, 'Weight': 82, 'Job': 'Data Scientist', 'Father': 'John Doe'}\n"
          ]
        }
      ]
    },
    {
      "cell_type": "code",
      "source": [
        "person = {\"I like\" : \"David Doe\", \"Age\" : 26, \"Weight\" : 82, \"Job\" : \"Data Scientist\"}\n",
        "person.update()"
      ],
      "metadata": {
        "id": "1vTaJ_jO9Erp"
      },
      "execution_count": null,
      "outputs": []
    },
    {
      "cell_type": "markdown",
      "source": [
        "### 3. With tuple data, the values of two variables can be swapped without using a temporary variable. Using this swapping method, write a program that moves the largest value in the given list to the last."
      ],
      "metadata": {
        "id": "k2bKck8v3EIf"
      }
    },
    {
      "cell_type": "code",
      "source": [
        "#declaring a list variable\n",
        "lista = [5, 6, 3, 9, 2, 12, 3, 8, 7]\n",
        "lista[-1],lista[lista.index(max(lista))] = max(lista), lista[-1] #swapping the max value of the list with the last value of the list\n",
        "lista #checking the output"
      ],
      "metadata": {
        "colab": {
          "base_uri": "https://localhost:8080/"
        },
        "id": "nniVtkeE281S",
        "outputId": "eb28ef12-0257-4a52-8820-f5e696ee7c90"
      },
      "execution_count": null,
      "outputs": [
        {
          "output_type": "execute_result",
          "data": {
            "text/plain": [
              "[5, 6, 3, 9, 2, 7, 3, 8, 12]"
            ]
          },
          "metadata": {},
          "execution_count": 5
        }
      ]
    },
    {
      "cell_type": "markdown",
      "source": [
        "### 4. The two-dimensional array a contains the values [[1, 2], [3, 4], [5, 6]]. Change this two-dimensional array to a onedimensional array like [1, 2, 3, 4, 5, 6], and print it out."
      ],
      "metadata": {
        "id": "tdMwYj0N4nmR"
      }
    },
    {
      "cell_type": "code",
      "source": [
        "a = [[1, 2], [3, 4], [5, 6]]\n",
        "b = [] #creating an empty list\n",
        "for x in a: #iterating over the lists in a\n",
        "  for i in x: #iterating over the elements of the lists in a\n",
        "    b.append(i) #appending every element of the list to the new list\n",
        "print(b) #printing the output"
      ],
      "metadata": {
        "colab": {
          "base_uri": "https://localhost:8080/"
        },
        "id": "4kh_KjuZ4aXb",
        "outputId": "54ef6499-9de8-4a42-8815-752378217171"
      },
      "execution_count": null,
      "outputs": [
        {
          "output_type": "stream",
          "name": "stdout",
          "text": [
            "[1, 2, 3, 4, 5, 6]\n"
          ]
        }
      ]
    },
    {
      "cell_type": "code",
      "source": [
        "#list comprehension\n",
        "a = [[1, 2], [3, 4], [5, 6]]\n",
        "b = [i for x in a for i in x]\n",
        "print(b)"
      ],
      "metadata": {
        "colab": {
          "base_uri": "https://localhost:8080/"
        },
        "id": "WDD_rPQNFs8-",
        "outputId": "2ddd6427-06d1-49c4-c297-5827dc341e0b"
      },
      "execution_count": null,
      "outputs": [
        {
          "output_type": "stream",
          "name": "stdout",
          "text": [
            "[1, 2, 3, 4, 5, 6]\n"
          ]
        }
      ]
    },
    {
      "cell_type": "markdown",
      "source": [
        "### 5. There is a dictionary variable maria as follows. In this dictionary variable, courses such as ‘korean' and ‘english' and their scores are stored as key:value. Print the average score of 89.25 for maria's subject scores."
      ],
      "metadata": {
        "id": "LPltkrLb5BQC"
      }
    },
    {
      "cell_type": "code",
      "source": [
        "maria = {\"korean\" : 94, \"english\" : 91, \"mathematics\" : 89, \"science\" : 83} #given dictionary\n",
        "sum = 0 #creating a int variable with the value 0 \n",
        "for value in maria.values(): #iterating over the values in the key-value pairs in the dictionary\n",
        "  sum += value #summing every value to the variable with 0 value\n",
        "  avg = sum / len(maria) #calculating the average by dividing the sum to the number of items of the dictionary\n",
        "print(\"The average score for Maria´s subject scores is: {}.\".format(avg)) #printing the result"
      ],
      "metadata": {
        "colab": {
          "base_uri": "https://localhost:8080/"
        },
        "id": "ebH1li-o49a4",
        "outputId": "8d2f9bff-b714-41c3-f92c-e70299566168"
      },
      "execution_count": null,
      "outputs": [
        {
          "output_type": "stream",
          "name": "stdout",
          "text": [
            "The average score for Maria´s subject scores is: 89.25.\n"
          ]
        }
      ]
    },
    {
      "cell_type": "markdown",
      "source": [
        "### 6. Declare a nested dictionary school as follows. Next, use the deepcopy() function of the copy module to write a program that 'copy' to another variable, school2. (Check that school and school2 are different variables through the is operator.)"
      ],
      "metadata": {
        "id": "ofIDNdyA5nh-"
      }
    },
    {
      "cell_type": "code",
      "source": [
        "#declaring the dictionary\n",
        "school = {\"kim\" : {\"age\" : 16, \"hei\" : 170, \"grade\" : 3}, \"lee\" : {\"age\" : 15, \"hei\" : 168, \"grade\" :2}, \"choi\" : {\"age\" : 14, \"hei\" : 173, \"grade\" : 1}}\n",
        "from copy import deepcopy #importing the copy package\n",
        "school2 = deepcopy(school) #creating a copy of list1 in a list2 variable\n",
        "print(\"school1 and school2 are the same dictionary: {}.\".format(school is school2)) #checking if the copy was created"
      ],
      "metadata": {
        "colab": {
          "base_uri": "https://localhost:8080/"
        },
        "id": "YzCHvelj5jU_",
        "outputId": "21d6f9b1-8c4e-4f70-f017-803b8b4207cd"
      },
      "execution_count": null,
      "outputs": [
        {
          "output_type": "stream",
          "name": "stdout",
          "text": [
            "school1 and school2 are the same dictionary: False.\n"
          ]
        }
      ]
    },
    {
      "cell_type": "markdown",
      "source": [
        "### 7. There is a scores tuple as follows. This tuple contains information about four students, including each student's name and English, math, and science grades. For example, ‘Hyun’ has an English score of 88, a math score of 95, and a science score of 90. Extract only math scores by unpacking the scores tuple. Write a code that calculates the average of these extracted math scores."
      ],
      "metadata": {
        "id": "slXg18Rd6Sez"
      }
    },
    {
      "cell_type": "code",
      "source": [
        "scores = ( (\"Hyun\", 88, 95, 90), ('Kang', 85, 90, 95), (\"Park\", 70, 90, 80), (\"Hong\", 90, 90, 95))\n",
        "name, english, math, science = zip(*scores)\n",
        "print(math)\n",
        "avg = sum(math)/len(math)\n",
        "print('The average of the math scores is {}.'.format(avg))"
      ],
      "metadata": {
        "colab": {
          "base_uri": "https://localhost:8080/"
        },
        "id": "FGqkgZWADcH7",
        "outputId": "60c6c031-6dd2-4eb1-831a-2085c2c48374"
      },
      "execution_count": 4,
      "outputs": [
        {
          "output_type": "stream",
          "name": "stdout",
          "text": [
            "(95, 90, 90, 90)\n",
            "The average of the math scores is 91.25.\n"
          ]
        }
      ]
    }
  ]
}