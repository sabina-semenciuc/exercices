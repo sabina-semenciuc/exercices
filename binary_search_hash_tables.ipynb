{
  "nbformat": 4,
  "nbformat_minor": 0,
  "metadata": {
    "colab": {
      "provenance": []
    },
    "kernelspec": {
      "name": "python3",
      "display_name": "Python 3"
    },
    "language_info": {
      "name": "python"
    }
  },
  "cells": [
    {
      "cell_type": "markdown",
      "source": [
        "## Binary search\n",
        "## Hash table"
      ],
      "metadata": {
        "id": "qGh8suyr8Kfx"
      }
    },
    {
      "cell_type": "markdown",
      "source": [
        "### 1. The following is the code for ‘guessing number’ game. If maximum=100 and number = 51, how many counts would be printed?\n",
        "\n",
        "Answer: 6"
      ],
      "metadata": {
        "id": "T8SfU6dkFbcD"
      }
    },
    {
      "cell_type": "markdown",
      "source": [
        "###2. If maximum=100 and number = 25 in the ‘guessing number’ game, then how many counts would be printed?\n",
        "\n",
        "Answer: 2"
      ],
      "metadata": {
        "id": "t44SNKmKFh8-"
      }
    },
    {
      "cell_type": "code",
      "execution_count": 4,
      "metadata": {
        "colab": {
          "base_uri": "https://localhost:8080/"
        },
        "id": "yVPkC88c7iVD",
        "outputId": "b4a8a019-ca64-47eb-b0b2-fe65237d082d"
      },
      "outputs": [
        {
          "output_type": "stream",
          "name": "stdout",
          "text": [
            "Enter the number of maximum: 100\n",
            "Enter your guessing number: 25\n",
            "Your number is 25.\n",
            "Total 2 times are searched.\n"
          ]
        }
      ],
      "source": [
        "from random import randint  # Importing the randint function from the random module\n",
        "\n",
        "maximum = int(input(\"Enter the number of maximum: \"))  # Prompting the user to enter the maximum number and storing it in the variable 'maximum'\n",
        "number = int(input(\"Enter your guessing number: \"))  # Prompting the user to enter their guessing number and storing it in the variable 'number'\n",
        "\n",
        "count = 0  # Initializing the variable 'count' to keep track of the number of searches\n",
        "low, high = 1, maximum  # Initializing the variables 'low' and 'high' to define the search range\n",
        "\n",
        "while low < high:  # Starting a while loop to perform the binary search until 'low' becomes greater than or equal to 'high'\n",
        "  mid = (low + high) // 2  # Calculating the midpoint of the search range and storing it in the variable 'mid'\n",
        "  count += 1  # Incrementing the 'count' variable by 1 to keep track of the number of searches\n",
        "\n",
        "  if mid == number:  # Checking if the midpoint is equal to the guessed number\n",
        "    print(f\"Your number is {number}.\")  # Printing a message indicating that the guessed number is found\n",
        "    break  # Exiting the loop since the guessed number is found\n",
        "\n",
        "  elif mid > number:  # Checking if the midpoint is greater than the guessed number\n",
        "    high = mid - 1  # Updating the value of 'high' to narrow down the search range\n",
        "\n",
        "  else:  # If the above conditions are not met, i.e., the midpoint is less than the guessed number\n",
        "    low = mid + 1  # Updating the value of 'low' to narrow down the search range\n",
        "\n",
        "print(f\"Total {count} times are searched.\")  # Printing the total number of searches performed"
      ]
    },
    {
      "cell_type": "markdown",
      "source": [
        "3. If an ordered list ’nums’ and a random integer x are given, implement the function that returns the location of index where x will be inserted. However, the S should be an ordered list even after inserting x. "
      ],
      "metadata": {
        "id": "hLyzngdOIDM1"
      }
    },
    {
      "cell_type": "code",
      "source": [
        "nums = [10, 20, 40, 50, 60, 80]  # Initialize the list of numbers\n",
        "\n",
        "x = int(input(\"Input a number to insert: \"))  # Prompt the user to input a number to insert and store it in variable 'x'\n",
        "\n",
        "def search_insert_position(nums, x):\n",
        "    low, high = 0, len(nums) - 1  # Define the low and high indices for binary search\n",
        "\n",
        "    while low <= high:\n",
        "        mid = (low + high) // 2  # Calculate the midpoint index\n",
        "\n",
        "        if nums[mid] == x:  # Check if the element at the midpoint is equal to 'x'\n",
        "            return mid\n",
        "\n",
        "        elif nums[mid] < x:  # Check if the element at the midpoint is less than 'x'\n",
        "            low = mid + 1  # Update the low index to search in the right half\n",
        "\n",
        "        else:  # The element at the midpoint is greater than 'x'\n",
        "            high = mid - 1  # Update the high index to search in the left half\n",
        "\n",
        "    return low  # Return the low index as the insertion position\n",
        "\n",
        "pos = search_insert_position(nums, x)  # Call the 'search_insert_position' function and store the result in variable 'pos'\n",
        "print(f\"{x} should be inserted at position {pos}.\")  # Print a message indicating where 'x' should be inserted\n"
      ],
      "metadata": {
        "colab": {
          "base_uri": "https://localhost:8080/"
        },
        "id": "SBK6rZrbFGhr",
        "outputId": "d4006575-b613-4acd-e8d5-6bd1b4dd7628"
      },
      "execution_count": 11,
      "outputs": [
        {
          "output_type": "stream",
          "name": "stdout",
          "text": [
            "Input a number to insert: 90\n",
            "90 should be inserted at position 6.\n"
          ]
        }
      ]
    },
    {
      "cell_type": "code",
      "source": [
        "nums.insert(pos, x)\n",
        "print(nums)"
      ],
      "metadata": {
        "colab": {
          "base_uri": "https://localhost:8080/"
        },
        "id": "v5xujHx0IqJI",
        "outputId": "4405ffd0-d182-4357-f2d6-91fdefbf8015"
      },
      "execution_count": 7,
      "outputs": [
        {
          "output_type": "stream",
          "name": "stdout",
          "text": [
            "[10, 20, 40, 45, 50, 60, 80]\n"
          ]
        }
      ]
    },
    {
      "cell_type": "markdown",
      "source": [
        "### 4. Use the hash function of the hash table to calculate the key and hashkey of \"Alice in Wonderland\"."
      ],
      "metadata": {
        "id": "y_5LepD4WU68"
      }
    },
    {
      "cell_type": "code",
      "source": [
        "class HashTable:\n",
        "    # Define a class named 'HashTable' to represent a hash table.\n",
        "\n",
        "    def __init__(self, size):\n",
        "        # Define the constructor method for the 'HashTable' class. It takes a 'size' parameter to determine the size of the hash table.\n",
        "\n",
        "        self.size = size\n",
        "        # Assign the 'size' parameter to the 'size' attribute of the 'HashTable' instance.\n",
        "\n",
        "        self.table = []\n",
        "        # Initialize an empty list 'table' as the 'table' attribute of the 'HashTable' instance.\n",
        "\n",
        "        for i in range(size):\n",
        "            # Iterate 'i' over the range from 0 to 'size' (exclusive).\n",
        "\n",
        "            self.table.append([])\n",
        "            # Append an empty list to the 'table' attribute. Each element represents a bucket in the hash table.\n",
        "\n",
        "    def hash(self, key):\n",
        "        # Define a method named 'hash' in the 'HashTable' class. It takes a 'key' parameter.\n",
        "\n",
        "        return key % self.size\n",
        "        # Return the result of 'key' modulo 'size'. This calculates the hash value (hash key) based on the 'key' and the size of the hash table.\n",
        "\n",
        "    def put(self, key, value):\n",
        "        bucket = self.table[self.hash(key)]\n",
        "        bucket.append(value)"
      ],
      "metadata": {
        "id": "f1-v4PXOlGlP"
      },
      "execution_count": 35,
      "outputs": []
    },
    {
      "cell_type": "code",
      "source": [
        "table = HashTable(8)\n",
        "# Create an instance of the 'HashTable' class with a size of 8 and assign it to the variable 'table'.\n",
        "\n",
        "book = \"Alice in Wonderland\"\n",
        "# Assign the string \"Alice in Wonderland\" to the variable 'book'.\n",
        "\n",
        "key = sum(map(ord, book))\n",
        "# Calculate the sum of the ASCII values of each character in the 'book' string using the 'ord' function and 'map'. Assign the result to the variable 'key'.\n",
        "\n",
        "print(key, table.hash(key))\n",
        "# Print the value of 'key' and the hash key obtained by calling the 'hash' method on the 'table' instance with 'key' as the argument."
      ],
      "metadata": {
        "colab": {
          "base_uri": "https://localhost:8080/"
        },
        "id": "Z_578DFSms7n",
        "outputId": "7d85c622-0850-4892-9c44-224705565fd5"
      },
      "execution_count": 36,
      "outputs": [
        {
          "output_type": "stream",
          "name": "stdout",
          "text": [
            "1795 3\n"
          ]
        }
      ]
    },
    {
      "cell_type": "markdown",
      "source": [
        "### 5. If there are 10 slots in the bookshelf, calculate with the following code to find slots where each of the the following books will be put."
      ],
      "metadata": {
        "id": "q4IRmVO_h2Lc"
      }
    },
    {
      "cell_type": "code",
      "source": [
        "table = HashTable(10)\n",
        "# Create an instance of the 'HashTable' class with a size of 10 and assign it to the variable 'table'.\n",
        "\n",
        "books = [\"The Little Prince\", \"The Old Man and the Sea\", \"The Little Mermaid\", \"Beauty and the Beast\", \"The LastLeaf\", \"Alice in Wonderland\"]\n",
        "# Create a list of books containing the book titles.\n",
        "\n",
        "for book in books:\n",
        "    # Iterate over each book in the 'books' list.\n",
        "\n",
        "    key = sum(map(ord, book))\n",
        "    # Calculate the sum of the ASCII values of each character in the current book title using 'ord' function and 'map'. Assign the result to the variable 'key'.\n",
        "\n",
        "    table.put(key, book)\n",
        "    # Use the 'put' method of the 'table' instance to insert the book into the hash table. The 'key' is used as the hash key, and the book title is the value.\n",
        "\n",
        "for key in table.table.keys():\n",
        "    # Iterate over the keys of the 'table.table' dictionary.\n",
        "\n",
        "    print(key, table.table[key])\n",
        "    # Print the key and the corresponding book title stored in the hash table."
      ],
      "metadata": {
        "colab": {
          "base_uri": "https://localhost:8080/",
          "height": 235
        },
        "id": "7DUxKgG2h375",
        "outputId": "27e67e2a-c77d-4277-e3b4-b5a450dcf116"
      },
      "execution_count": 37,
      "outputs": [
        {
          "output_type": "error",
          "ename": "AttributeError",
          "evalue": "ignored",
          "traceback": [
            "\u001b[0;31m---------------------------------------------------------------------------\u001b[0m",
            "\u001b[0;31mAttributeError\u001b[0m                            Traceback (most recent call last)",
            "\u001b[0;32m<ipython-input-37-0034c24c1054>\u001b[0m in \u001b[0;36m<cell line: 16>\u001b[0;34m()\u001b[0m\n\u001b[1;32m     14\u001b[0m     \u001b[0;31m# Use the 'put' method of the 'table' instance to insert the book into the hash table. The 'key' is used as the hash key, and the book title is the value.\u001b[0m\u001b[0;34m\u001b[0m\u001b[0;34m\u001b[0m\u001b[0m\n\u001b[1;32m     15\u001b[0m \u001b[0;34m\u001b[0m\u001b[0m\n\u001b[0;32m---> 16\u001b[0;31m \u001b[0;32mfor\u001b[0m \u001b[0mkey\u001b[0m \u001b[0;32min\u001b[0m \u001b[0mtable\u001b[0m\u001b[0;34m.\u001b[0m\u001b[0mtable\u001b[0m\u001b[0;34m.\u001b[0m\u001b[0mkeys\u001b[0m\u001b[0;34m(\u001b[0m\u001b[0;34m)\u001b[0m\u001b[0;34m:\u001b[0m\u001b[0;34m\u001b[0m\u001b[0;34m\u001b[0m\u001b[0m\n\u001b[0m\u001b[1;32m     17\u001b[0m     \u001b[0;31m# Iterate over the keys of the 'table.table' dictionary.\u001b[0m\u001b[0;34m\u001b[0m\u001b[0;34m\u001b[0m\u001b[0m\n\u001b[1;32m     18\u001b[0m \u001b[0;34m\u001b[0m\u001b[0m\n",
            "\u001b[0;31mAttributeError\u001b[0m: 'list' object has no attribute 'keys'"
          ]
        }
      ]
    },
    {
      "cell_type": "code",
      "source": [
        "table = HashTable(10)\n",
        "books = [\"The Little Prince\", \"The Old Man and the Sea\", \"The Little Mermaid\", \"Beauty and the Beast\", \"The LastLeaf\", \"Alice in Wonderland\"]\n",
        "\n",
        "for book in books:\n",
        "    key = sum(map(ord, book))\n",
        "    table.put(key, book)\n",
        "\n",
        "for i in range(len(table.table)):\n",
        "    bucket = table.table[i]\n",
        "    if bucket:\n",
        "        print(i, bucket)\n"
      ],
      "metadata": {
        "colab": {
          "base_uri": "https://localhost:8080/"
        },
        "id": "kq67eBX4m_CP",
        "outputId": "d70ff627-a600-48eb-ff47-fbdfa2dbdd7a"
      },
      "execution_count": 39,
      "outputs": [
        {
          "output_type": "stream",
          "name": "stdout",
          "text": [
            "1 ['The LastLeaf']\n",
            "4 ['The Little Prince']\n",
            "5 ['Alice in Wonderland']\n",
            "7 ['Beauty and the Beast']\n",
            "8 ['The Little Mermaid']\n",
            "9 ['The Old Man and the Sea']\n"
          ]
        }
      ]
    },
    {
      "cell_type": "markdown",
      "source": [
        "### 6. Create a converter that converts Arabic numerals to Roman numerals by using the hash table provided below. "
      ],
      "metadata": {
        "id": "SGOt5dSDh82-"
      }
    },
    {
      "cell_type": "code",
      "source": [
        "def int_to_roman(num):\n",
        "  # Define the function 'int_to_roman' that takes an integer 'num' as input and converts it to a Roman numeral.\n",
        "\n",
        "  table = {1000: \"M\", 900: \"CM\", 500: \"D\", 400: \"CD\", 100: \"C\", 90: \"XC\", 50: \"L\", 40: \"XL\", 10: \"X\", 9: \"IX\", 5: \"V\", 4: \"IV\", 1: \"I\"}\n",
        "  # Create a dictionary 'table' that maps Arabic numeral values to their corresponding Roman numeral symbols.\n",
        "\n",
        "  roman_numeral = \"\"\n",
        "  # Initialize an empty string 'roman_numeral' to store the Roman numeral representation of the input 'num'.\n",
        "\n",
        "  for key in sorted(table.keys(), reverse=True):\n",
        "    # Iterate over the keys of the 'table' dictionary in descending order.\n",
        "\n",
        "    while num >= key:\n",
        "      # Enter a loop that continues as long as 'num' is greater than or equal to the current 'key'.\n",
        "\n",
        "      roman_numeral += table[key]\n",
        "      # Append the corresponding Roman numeral symbol for the current 'key' to the 'roman_numeral' string.\n",
        "\n",
        "      num -= key\n",
        "      # Subtract the current 'key' from 'num' to reduce its value.\n",
        "\n",
        "  return roman_numeral\n",
        "  # Return the resulting 'roman_numeral' string, representing the Roman numeral equivalent of the input 'num'."
      ],
      "metadata": {
        "id": "RCOn3H3oi07E"
      },
      "execution_count": 28,
      "outputs": []
    },
    {
      "cell_type": "code",
      "source": [
        "num = int(input(\"Input a number: \"))\n",
        "print(int_to_roman(num))"
      ],
      "metadata": {
        "colab": {
          "base_uri": "https://localhost:8080/"
        },
        "id": "NHR_DKmBitaJ",
        "outputId": "ee40bde9-8026-40d7-85aa-e29e4a9542fb"
      },
      "execution_count": 30,
      "outputs": [
        {
          "output_type": "stream",
          "name": "stdout",
          "text": [
            "Input a number: 34\n",
            "XXXIV\n"
          ]
        }
      ]
    }
  ]
}